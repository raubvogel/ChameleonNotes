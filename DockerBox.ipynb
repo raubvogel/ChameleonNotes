{
 "cells": [
  {
   "cell_type": "markdown",
   "metadata": {},
   "source": [
    "# Using Ansible to Configure Chameleon Instances\n",
    "In previous tutorials we have gone over how to create and configure instances and [networks](https://jupyter.chameleoncloud.org/import?source=github&src_path=chameleoncloud/notebooks&file_path=examples%2Fconfiguration%2FUsingSSHToConfigureNameResolution.ipynb#Create-Reservations) in Chameleon using Jupyter Notebooks. One of the benefits of the notebooks is it allows readers to go over each step in the process at their pace. \n",
    "\n",
    "Sometimes we would prefer a more automated approach, something that allows us to create labs without requiring user intervention besides starting the build and configure process... and even that can be automated (but will be the subject for another lab). If done right, our automation could be crafted anywhere we wanted, even without needing to access the Chameleon Cloud. So, if we plan on using popular resources on our reservation, we can then get to them \n",
    "\n",
    "\n",
    "### Use case\n",
    "\n",
    "\n",
    "Let's say we want to create a lab with 3 computers arranged as follows:  \n",
    "[Lab Diagram](picts/Chameleon_3computer_lab.svg)\n",
    " \n",
    "\n",
    "## Limitations\n",
    "* For this tutorial, we will stick to building the instances themselves using this Jupyter Notebook. Another way would be to use a heat template, which will be covered in another tutorial."
   ]
  },
  {
   "cell_type": "markdown",
   "metadata": {},
   "source": [
    "## Getting Started\n",
    "In this notebook we will\n",
    "1. Ensure you have a SSH keypair you want to use.\n",
    "1. Create network\n",
    "2. Create nodes. We need 3: 1 server and 2 clients just like we did in a recent blog entry on [how to create /etc/hosts for a set of nodes](https://jupyter.chameleoncloud.org/import?source=github&src_path=chameleoncloud/notebooks&file_path=examples%2Fconfiguration%2FUsingSSHToConfigureNameResolution.ipynb); we will also use that here. Now, We keep building nodes running the centos operating system. Ansible does not care, so this time we will make the two *clients* a centos and an ubuntu one. Note that we are showing another way to create (client) nodes by using two arrays: one of their names and one for their OS.\n",
    "1. Install ansible on the server.\n",
    "1. Pull the ansible playbooks from github.\n",
    "1. Run the playbook installing the software in the two clients. Just to make it more interesting, we will compile it from source.\n",
    "1. Let playbook also run the test on its own and create output files.\n",
    "1. Copy the output files to server and then show their output in this Jupyter notebook.\n",
    "\n",
    "As before, let's define some variables"
   ]
  },
  {
   "cell_type": "code",
   "execution_count": null,
   "metadata": {},
   "outputs": [],
   "source": [
    "# Set up user's project (user's can be multiple ones, so there is no default currently)\n",
    "# export OS_PROJECT_NAME='CH-816532'\n",
    "export OS_REGION_NAME='CHI@TACC'\n",
    "\n",
    "export LEASE_NAME=\"$USER-Test\"\n",
    "\n",
    "## Network Information\n",
    "# Set the names for the network, subnet, router, and switch. \n",
    "export PRIVATE_NETWORK_NAME=\"$USER-SmallNet\"\n",
    "export PUBLIC_NETWORK_NAME=\"public\"\n",
    "export SUBNET_NAME=\"SmallSubnet\"\n",
    "export ROUTER_NAME=\"SmallRouter\"\n",
    "export SUBNET_CIDR=\"192.168.42.0/24\"\n",
    "\n",
    "# The Nodes\n",
    "export SERVER_NAME=\"AnsibleServer\"\n",
    "# Server's fixed IP inside our private network \n",
    "export SERVER_IP='192.168.42.10'\n",
    "export CLIENT_NAME=('AnsibleClient-centos' 'AnsibleClient-ubuntu')\n",
    "export CLIENT_OS=('CC-CentOS7' 'CC-Ubuntu18.04')\n",
    "export CLIENT_COUNT=2\n",
    "\n",
    "export SSHKEY_FILE=\"$HOME/work/.ssh/${USER}-jupyter\"\n",
    "export SSHKEY_NAME=\"${USER}-jupyter\"\n",
    "\n",
    "# Where is the our Ansible demo repo?\n",
    "export DEMOREPO=\"https://github.com/raubvogel/DemoAnsibLab.git\"\n",
    "\n",
    "export NODE_TYPE=\"compute_haswell\"\n",
    "# export NODE_TYPE=\"compute_skylake\"\n",
    "\n",
    "export NODE_FLAVOR=\"baremetal\"\n",
    "export OS_REGION_NAME='CHI@UC'"
   ]
  },
  {
   "cell_type": "markdown",
   "metadata": {},
   "source": [
    "## SSH keys\n",
    "\n",
    "As always, we should see if the SSH key we want to use has already been created"
   ]
  },
  {
   "cell_type": "code",
   "execution_count": null,
   "metadata": {},
   "outputs": [],
   "source": [
    "# openstack keypair list\n",
    "echo $OS_REGION_NAME\n",
    "echo $SUBNET_CIDR"
   ]
  },
  {
   "cell_type": "markdown",
   "metadata": {},
   "source": [
    "and then create and add it to openstack as needed. If you forgot how to do that, you can look into [how to create a SSH keypair](https://jupyter.chameleoncloud.org/import?source=github&src_path=chameleoncloud/notebooks&file_path=tutorials%2Fgetting-started%2FJupyterOrchestration.ipynb#Create-a-SSH-key-pair) in one of the previous webinars' notes."
   ]
  },
  {
   "cell_type": "markdown",
   "metadata": {},
   "source": [
    "## Create reservations\n",
    "### Build network\n",
    "We begin by creating the [reservation (or lease) and the private network](https://jupyter.chameleoncloud.org/import?source=github&src_path=chameleoncloud/notebooks&file_path=examples%2Fconfiguration%2FUsingSSHToConfigureNameResolution.ipynb#Create-Reservations). Our lease lasts one day from 2 minutes from now."
   ]
  },
  {
   "cell_type": "code",
   "execution_count": null,
   "metadata": {},
   "outputs": [],
   "source": [
    "START_DATE=`date -d \"+2 min\" +'%F %H:%M'`\n",
    "END_DATE=`date -d \"+1 day\" +'%F %H:%M'`\n",
    "\n",
    "PUBLIC_NETWORK_ID=$(openstack network show ${PUBLIC_NETWORK_NAME} -c id -f value)\n",
    "\n",
    "echo Creating network ${PRIVATE_NETWORK_NAME}\n",
    "blazar lease-create \\\n",
    "   --physical-reservation min=$((CLIENT_COUNT +1 )),max=$((CLIENT_COUNT +2 )),resource_properties='[\"=\", \"$node_type\", \"'$NODE_TYPE'\"]' \\\n",
    "   --reservation resource_type=virtual:floatingip,network_id=${PUBLIC_NETWORK_ID},amount=1 \\\n",
    "   --reservation resource_type=\"network\",network_name=\"${PRIVATE_NETWORK_NAME}\",resource_properties='[\"==\",\"$physical_network\",\"physnet1\"]' \\\n",
    "   --start-date \"${START_DATE}\" \\\n",
    "   --end-date \"${END_DATE}\" \\\n",
    "   ${LEASE_NAME}\n",
    "\n",
    "RESERVATION=`blazar lease-show --format value -c id ${LEASE_NAME}`\n",
    "echo RESERVATION $RESERVATION\n",
    "\n",
    "NODE_RESERVATION=`blazar lease-show -json --format value -c reservations ${LEASE_NAME} | jq -r 'select(.resource_type | contains(\"physical:host\")) | .id'`\n",
    "echo NODE_RESERVATION $NODE_RESERVATION"
   ]
  },
  {
   "cell_type": "markdown",
   "metadata": {},
   "source": [
    "#### Verify if lease has been created.\n",
    "Do not continue until `blazar lease-show` below replies with an `ACTIVE` status:"
   ]
  },
  {
   "cell_type": "code",
   "execution_count": null,
   "metadata": {},
   "outputs": [],
   "source": [
    "blazar lease-show --format value -c status \"${LEASE_NAME}\""
   ]
  },
  {
   "cell_type": "markdown",
   "metadata": {},
   "source": [
    "#### Finish Creating Network:\n",
    "\n",
    "An isolated network requires a subnet, router, and external gateway."
   ]
  },
  {
   "cell_type": "code",
   "execution_count": null,
   "metadata": {},
   "outputs": [],
   "source": [
    "echo -n \"Creating Subnet... \"\n",
    "openstack subnet create --max-width 80 \\\n",
    "                        --subnet-range ${SUBNET_CIDR} \\\n",
    "                        --dhcp \\\n",
    "                        --network ${PRIVATE_NETWORK_NAME} \\\n",
    "                        ${SUBNET_NAME}\n",
    "                        \n",
    "echo \"Done.\"\n",
    "echo -n \"Creating Router... \"\n",
    "openstack router create --max-width 80 ${ROUTER_NAME}\n",
    "echo \"Done.\"\n",
    "\n",
    "echo -n \"Linking router to subnet... \"\n",
    "openstack router add subnet ${ROUTER_NAME} ${SUBNET_NAME}\n",
    "echo \"Done\"\n",
    "\n",
    "echo -n \"Linking router to external gateway... \"\n",
    "openstack router set --external-gateway public ${ROUTER_NAME}\n",
    "echo \"Done\"\n",
    "\n",
    "echo Network ${PRIVATE_NETWORK_NAME} is ready for nodes!"
   ]
  },
  {
   "cell_type": "markdown",
   "metadata": {},
   "source": [
    "### Build nodes\n",
    "Following what we learned, we are creating `$SERVER_NAME`, `$CLIENT_NAME[0]` and `$CLIENT_NAME[1]`. \n",
    "#### Server\n",
    "Creating `$SERVER_NAME` is pretty straight forward:"
   ]
  },
  {
   "cell_type": "code",
   "execution_count": null,
   "metadata": {},
   "outputs": [],
   "source": [
    "echo Creating Server ${SERVER_NAME} with fixed internal IP ${SERVER_IP}\n",
    "openstack server create --max-width 80 \\\n",
    "                        --flavor ${NODE_FLAVOR} \\\n",
    "                        --image \"CC-CentOS7\" \\\n",
    "                        --key-name ${SSHKEY_NAME} \\\n",
    "                        --hint reservation=${NODE_RESERVATION} \\\n",
    "                        --security-group default  \\\n",
    "                        --nic net-id=${PRIVATE_NETWORK_NAME},v4-fixed-ip=${SERVER_IP} \\\n",
    "                        ${SERVER_NAME}"
   ]
  },
  {
   "cell_type": "markdown",
   "metadata": {},
   "source": [
    "##### Don't forget the server floating IP"
   ]
  },
  {
   "cell_type": "code",
   "execution_count": null,
   "metadata": {},
   "outputs": [],
   "source": [
    "FLOATING_IP=`lease_list_floating_ips $RESERVATION`\n",
    "echo FLOATING_IP $FLOATING_IP \n",
    "# Associate floating IP to server $SERVER_NAME\n",
    "openstack server add floating ip $SERVER_NAME $FLOATING_IP "
   ]
  },
  {
   "cell_type": "markdown",
   "metadata": {},
   "source": [
    "#### Clients\n",
    "The client nodes will be more interesting. In a previous webinar we looped over the list of client names. We will do something like that, but in this case the names are in an array. To add to the challenge, we are also looping over the array containing the operating systems we will install in these nodes:"
   ]
  },
  {
   "cell_type": "code",
   "execution_count": null,
   "metadata": {},
   "outputs": [],
   "source": [
    "for ((i = 0; i<${#CLIENT_NAME[@]};++i))\n",
    "do\n",
    "  openstack server create \\\n",
    "     --flavor ${NODE_FLAVOR} \\\n",
    "     --image \"${CLIENT_OS[i]}\" \\\n",
    "     --nic net-id=\"${PRIVATE_NETWORK_NAME}\" \\\n",
    "     --hint reservation=\"${NODE_RESERVATION}\" \\\n",
    "     --key-name=\"${SSHKEY_NAME}\" \\\n",
    "     --security-group default  \\\n",
    "     \"${CLIENT_NAME[i]}\"\n",
    "done"
   ]
  },
  {
   "cell_type": "markdown",
   "metadata": {},
   "source": [
    "**Wait for the nodes to become active!** That means running"
   ]
  },
  {
   "cell_type": "code",
   "execution_count": null,
   "metadata": {},
   "outputs": [],
   "source": [
    "openstack server list"
   ]
  },
  {
   "cell_type": "markdown",
   "metadata": {},
   "source": [
    "Until all three nodes report `Status = ACTIVE`"
   ]
  },
  {
   "cell_type": "markdown",
   "metadata": {},
   "source": [
    "### Ansible\n",
    "#### Install Ansible\n",
    "We will also install git since we will need it."
   ]
  },
  {
   "cell_type": "code",
   "execution_count": null,
   "metadata": {},
   "outputs": [],
   "source": [
    "login_command=\"ssh -o \\\"StrictHostKeyChecking no\\\" -i $SSHKEY_FILE cc@$FLOATING_IP\"\n",
    "eval \"$login_command\" \"yum install -q -y ansible git\" "
   ]
  },
  {
   "cell_type": "markdown",
   "metadata": {},
   "source": [
    "#### Configure Ansible\n",
    "We begin by retrieving the ansible playbook"
   ]
  },
  {
   "cell_type": "code",
   "execution_count": null,
   "metadata": {},
   "outputs": [],
   "source": [
    "eval \"$login_command\" \"git clone $DEMOREPO\" "
   ]
  },
  {
   "cell_type": "markdown",
   "metadata": {},
   "source": [
    "Then we configure the playbook since we know the IPs for both clients"
   ]
  },
  {
   "cell_type": "markdown",
   "metadata": {},
   "source": [
    "#### Run Ansible\n",
    "##### Configure the clients\n",
    "We are setting their `/etc/hosts` file and hostname.\n",
    "\n",
    "##### Install and build packages"
   ]
  },
  {
   "cell_type": "markdown",
   "metadata": {},
   "source": [
    "##### Run and collect data\n",
    "The performance test is run on the clients by the ansible playbook; we do not have to start it as it is just another task. It creates a file with the output, which we can then copy to the server."
   ]
  },
  {
   "cell_type": "markdown",
   "metadata": {},
   "source": [
    "## Show data\n",
    "Let's copy the test results to the server"
   ]
  },
  {
   "cell_type": "markdown",
   "metadata": {},
   "source": [
    "And then present them"
   ]
  },
  {
   "cell_type": "markdown",
   "metadata": {},
   "source": [
    "## Clean up"
   ]
  },
  {
   "cell_type": "code",
   "execution_count": null,
   "metadata": {},
   "outputs": [],
   "source": []
  }
 ],
 "metadata": {
  "kernelspec": {
   "display_name": "Bash",
   "language": "bash",
   "name": "bash"
  },
  "language_info": {
   "codemirror_mode": "shell",
   "file_extension": ".sh",
   "mimetype": "text/x-sh",
   "name": "bash"
  }
 },
 "nbformat": 4,
 "nbformat_minor": 4
}
