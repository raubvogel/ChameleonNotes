{
 "cells": [
  {
   "cell_type": "markdown",
   "metadata": {},
   "source": [
    "# Automating building a test openvswitch"
   ]
  },
  {
   "cell_type": "markdown",
   "metadata": {},
   "source": [
    "## Getting started\n",
    "\n",
    "The simplest possible way to automate deploying an experiment in Chameleon is to use a Jupyter document. Main reason is that you can run (shell) commands from within the document and see the output. This document goes in more depth than [Getting Started Guide][1], namely it shows how to\n",
    "1. Create a lease\n",
    "1. Create ssh keypair\n",
    "1. Get a floating IP\n",
    "2. Create the required baremetal/virtual servers\n",
    "1. Access the baremetal server\n",
    "1. Build the test environment in the server. In this case a Open vSwitch lab.\n",
    "1. Run experiment to our hearts content\n",
    "1. Display results\n",
    "1. Destroy the servers\n",
    "1. Release floating IP\n",
    "1. Delete SSH keypair\n",
    "1. Destroy the lease.\n",
    "\n",
    "from the command line.\n",
    "\n",
    "### Limitations\n",
    "\n",
    "1. We can only run non-interactive commands here\n",
    "\n",
    "### Conventions\n",
    "\n",
    "1. Some of the resources will be associated with the user who is running this doc, in this case `$USER`.\n",
    "1. If you are only a member of one project, you can skip this step, as the project will be selected for you by default. Otherwise, take a look at the current value of the environmental variable `OS_PROJECT_NAME`:\n",
    "\n",
    "[1]: https://chameleoncloud.readthedocs.io/en/latest/getting-started/index.html"
   ]
  },
  {
   "cell_type": "code",
   "execution_count": null,
   "metadata": {},
   "outputs": [],
   "source": [
    "echo $OS_PROJECT_NAME"
   ]
  },
  {
   "cell_type": "markdown",
   "metadata": {},
   "source": [
    "to ensure it matches the name of the project you want to run this lab on. If it does not, change it (uncommend the `export OS_PROJECT_NAME` line and set `your-project` to match the project name).\n",
    "\n",
    "**NOTE:** If project has a nickname, you **must** use it instead."
   ]
  },
  {
   "cell_type": "code",
   "execution_count": null,
   "metadata": {},
   "outputs": [],
   "source": [
    "# Set up user's project (Replace 'your-project' with your project name)\n",
    "# export OS_PROJECT_NAME='your-project'\n",
    "echo \"New project name = $OS_PROJECT_NAME\""
   ]
  },
  {
   "cell_type": "markdown",
   "metadata": {},
   "source": [
    "**NOTE:** Just to be on the safe side, let's test it (we will explain the command later on):"
   ]
  },
  {
   "cell_type": "code",
   "execution_count": null,
   "metadata": {},
   "outputs": [],
   "source": [
    "openstack keypair list"
   ]
  },
  {
   "cell_type": "markdown",
   "metadata": {},
   "source": [
    "If the output looks like this:\n",
    "```\n",
    "+------------+-------------------------------------------------+\n",
    "| Name       | Fingerprint                                     |\n",
    "+------------+-------------------------------------------------+\n",
    "| defaultkey | d0:89:5b:61:6a:64:dd:c8:db:67:32:32:45:71:b0:b8 |\n",
    "+------------+-------------------------------------------------+\n",
    "```\n",
    "you can continue to the next step. If it looks like this:\n",
    "```\n",
    "The request you have made requires authentication. (HTTP 401) (Request-ID: req-76ad404f-0043-45e9-84cf-0504843888ab)\n",
    "```\n",
    "figure out what is going on before continuing. One thing to check is whether the project name you provide works (the nickname issue mentioned before is one possible reason)."
   ]
  },
  {
   "cell_type": "markdown",
   "metadata": {},
   "source": [
    "You can also set the site you want to use via the `OS_REGION_NAME` setting; this defaults to `CHI@UC`."
   ]
  },
  {
   "cell_type": "code",
   "execution_count": null,
   "metadata": {},
   "outputs": [],
   "source": [
    "# Set region (Optional, default to 'CHI@UC')\n",
    "# export OS_REGION_NAME='CHI@UC'\n",
    "echo $OS_REGION_NAME"
   ]
  },
  {
   "cell_type": "markdown",
   "metadata": {},
   "source": [
    "### Define some variables\n",
    "We need to define the names for our\n",
    "  1. Lease\n",
    "  1. Server\n",
    "  1. Private network\n",
    "  1. Public network\n",
    "  1. SSH key. By default Jupyter places the user's ssh keys in `~/work/.ssh`, but that should not stop us from placing them wherever we need them. Also, for this example, we delete the keys as part of the tearing down procedure.\n",
    "  1. Type for the instance/node/servers\n",
    "  1. How many nodes we will need. Always get a least an extra one since one of the servers we want to build might be assigned to a flakey physical host. If we have spares, openstack will simply drop it and go to the next one.\n"
   ]
  },
  {
   "cell_type": "code",
   "execution_count": null,
   "metadata": {},
   "outputs": [],
   "source": [
    "export LEASE_NAME=\"$USER-ovs-test\"\n",
    "export SERVER_NAME=\"$USER-ovs-server\"\n",
    "export PRIVATE_NETWORK_NAME=\"sharednet1\"\n",
    "export PUBLIC_NETWORK_NAME=\"public\"\n",
    "export SSHKEY_FILE=\"$HOME/.ssh/$USER-chameleon\"\n",
    "export SSHKEY_NAME=\"ChameleonKey\"\n",
    "export NODE_TYPE=\"compute_haswell\"\n",
    "export MAX_SERVERS=2"
   ]
  },
  {
   "cell_type": "markdown",
   "metadata": {},
   "source": [
    "These environmental variables only exist within the scope of this Jupyter document."
   ]
  },
  {
   "cell_type": "markdown",
   "metadata": {},
   "source": [
    "### Create a lease \n",
    "Specifically, we will create the lease `$LEASE_NAME`. "
   ]
  },
  {
   "cell_type": "code",
   "execution_count": null,
   "metadata": {},
   "outputs": [],
   "source": [
    "blazar lease-create --physical-reservation \\\n",
    "   min=1,\"max=$MAX_SERVERS\",resource_properties='[\"=\", \"$node_type\", \"'\"$NODE_TYPE\"'\"]' \"$LEASE_NAME\""
   ]
  },
  {
   "cell_type": "markdown",
   "metadata": {},
   "source": [
    "Before we continue let's verify if the lease was successful created. This might take a few minutes, or just crash horribly. Since we are automating this, we need to account for these options."
   ]
  },
  {
   "cell_type": "code",
   "execution_count": null,
   "metadata": {},
   "outputs": [],
   "source": [
    "lease_status=\"\"\n",
    "\n",
    "# Lease in a sorry state\n",
    "while [[ $lease_status == \"TERMIN\"* ]] || [[ $lease_status == \"ERROR\" ]] \n",
    "do\n",
    "   echo \"Lease it is in a sorry state. Restarting it.\"\n",
    "   # Delete old lease\n",
    "   blazar lease-delete \"$LEASE_NAME\"\n",
    "   blazar lease-create --physical-reservation \\\n",
    "      min=1,\"max=$MAX_SERVERS\",resource_properties='[\"=\", \"$node_type\", \"$NODE_TYPE\"]' \"$LEASE_NAME\"\n",
    "   lease_status=$(blazar lease-show --format value -c status \"$LEASE_NAME\")\n",
    "done\n",
    "echo \"Lease creation successfuly started.\"\n",
    "\n",
    "# Now wait for lease to be ready before going to the next step\n",
    "while [[ $lease_status != \"ACTIVE\" ]]\n",
    "do\n",
    "   sleep 5\n",
    "   lease_status=$(blazar lease-show --format value -c status \"$LEASE_NAME\")\n",
    "done\n",
    "\n",
    "echo \"Lease $LEASE_NAME ready for business\""
   ]
  },
  {
   "cell_type": "markdown",
   "metadata": {},
   "source": [
    "Wait until seeing the `Lease $LEASE_NAME ready for business` message before continuing.\n",
    "\n",
    "Another way is to keep track of PID and wait until it is done.\n",
    "\n",
    "Now, some commands can use this lease name but others need a lease ID instead. So, while we are here we might as well get the `$lease_id`."
   ]
  },
  {
   "cell_type": "code",
   "execution_count": null,
   "metadata": {},
   "outputs": [],
   "source": [
    "lease_id=$(blazar lease-show  --format value -c  reservations \"$LEASE_NAME\" |grep \\\"id\\\"| cut -d \\\" -f4)"
   ]
  },
  {
   "cell_type": "markdown",
   "metadata": {},
   "source": [
    "#### Get the ID of the network we will create the baremetal server on\n",
    "In the previous step we obtained `lease_id`, the ID of the lease named `$USER-default-lease`. Now we will do the same but for the network we will run our server in. Use the `sharednet1` network unless you have a good reason not to. Further information on this network is [available in the docs][1].\n",
    "\n",
    "[1]: https://chameleoncloud.readthedocs.io/en/latest/technical/networks/networks_basic.html#shared-network"
   ]
  },
  {
   "cell_type": "code",
   "execution_count": null,
   "metadata": {},
   "outputs": [],
   "source": [
    "# Get the network ID associated with sharednet1\n",
    "network_id=$(openstack network show --format value -c id $PRIVATE_NETWORK_NAME)"
   ]
  },
  {
   "cell_type": "markdown",
   "metadata": {},
   "source": [
    "### Create a SSH key pair\n",
    "One of the goals for this document is to access the the baremetal server; that will be achieved by using ssh to connect to the server. For [security][1], servers created in Chameleon are by default accessed using SSH key pair authentication. \n",
    "\n",
    "Openstack can store the public key, or keys, which can then be passed to the instance. To see which keys are currently defined you can type\n",
    "\n",
    "[1]:https://docs.openstack.org/horizon/latest/user/configure-access-and-security-for-instances.html"
   ]
  },
  {
   "cell_type": "code",
   "execution_count": null,
   "metadata": {},
   "outputs": [],
   "source": [
    "openstack keypair list"
   ]
  },
  {
   "cell_type": "markdown",
   "metadata": {},
   "source": [
    "We will need to create a key pair, say, `$SSHKEY_NAME` in the RSA format with a size of `4096` bits (the minimum size to use nowadays) and saved as `$SSHKEY_FILE` for the private key and `$SSHKEY_FILE.pub` for the public. \n",
    "\n",
    "**NOTE:** By default we do not have a `~/.ssh` dir here, so we need to create one first."
   ]
  },
  {
   "cell_type": "code",
   "execution_count": null,
   "metadata": {},
   "outputs": [],
   "source": [
    "[ -d ~/.ssh ] || mkdir -m 0700 ~/.ssh\n",
    "ssh-keygen -t rsa -b 4096  -P '' -C $SSHKEY_NAME -f $SSHKEY_FILE"
   ]
  },
  {
   "cell_type": "markdown",
   "metadata": {},
   "source": [
    "We are cheating by using `echo \"yes\"` to say we do not want to use a passphrase associated with this key pair. If you choose to use a passphrase, remove everything before `ssh-keygen`.\n",
    "\n",
    "Next is to add it to the list of keypairs openstack know to be associated with your account. In reality it is just uploading the public key, which is what you really need to ssh into a host. As with the lease, we do need a [name][2] associated with this key pair:\n",
    "\n",
    "[2]:https://docs.openstack.org/python-openstackclient/latest/cli/command-objects/keypair.html"
   ]
  },
  {
   "cell_type": "code",
   "execution_count": null,
   "metadata": {},
   "outputs": [],
   "source": [
    "openstack keypair create --public-key $SSHKEY_FILE.pub  $SSHKEY_NAME\n",
    "openstack keypair list"
   ]
  },
  {
   "cell_type": "markdown",
   "metadata": {},
   "source": [
    "### Get Floating IP\n",
    "\n",
    "By default, the server will only have a private IP assigned (in this case, an IP in the `PRIVATE_NETWORK_NAME` network). In order to connect (using SSH or other protocol) to the server from your desktop or another computer in the internet, you should assign a [public-facing floating IP][1]. There are a limited amount of public IPs available across the entire Chameleon testbed, so try to keep the amount of nodes with a public IP to a minimum! A common practice is to set up one node as a \"login node\" with a public IP, and logging in to that node to manage all of your project's nodes.\n",
    "\n",
    "[1]: https://chameleoncloud.readthedocs.io/en/latest/getting-started/index.html#associating-an-ip-address"
   ]
  },
  {
   "cell_type": "code",
   "execution_count": null,
   "metadata": {},
   "outputs": [],
   "source": [
    "# Request a public floating IP (in the 'public' network)\n",
    "server_ip=$(openstack floating ip create public --format value -c floating_ip_address)\n",
    "echo \"Public IP for this lab is $server_ip\""
   ]
  },
  {
   "cell_type": "markdown",
   "metadata": {},
   "source": [
    "Later on we will assign `$server_ip` to the right instance.\n",
    "\n",
    "#### Should I have more than one floating (public) IP?\n",
    "The short answer is **no**. Long answer is that \n",
    "\n",
    "1. There are very few times when someone needs more than one public IP as opposite to having one instance you can remote in and then go to others. For instance, you could use port forwarding to access all the instances in your experiment directly.\n",
    "1. There is a finite number if static IPs. By using more than one, someone else may end up with none. This is also the reason why once you finish your lab, you should immediately release the allocated floating IP."
   ]
  },
  {
   "cell_type": "markdown",
   "metadata": {},
   "source": [
    "### Create the required baremetal servers\n",
    "\n",
    "Let's launch a Centos 7 baremetal server called `$SERVER_NAME` on network `$PRIVATE_NETWORK_NAME` (identified using `$network_id`) and lease `$LEASE_NAME` (identified using `$lease_id`). It will be accessible using the ssh keypair `$SSHKEY_NAME` we created earlier."
   ]
  },
  {
   "cell_type": "code",
   "execution_count": null,
   "metadata": {},
   "outputs": [],
   "source": [
    "openstack server create \\\n",
    "--flavor baremetal \\\n",
    "--image CC-CentOS7 \\\n",
    "--nic net-id=\"$network_id\" \\\n",
    "--hint reservation=\"$lease_id\" \\\n",
    "--key-name=\"$SSHKEY_NAME\" \\\n",
    "--wait \\\n",
    "$SERVER_NAME"
   ]
  },
  {
   "cell_type": "markdown",
   "metadata": {},
   "source": [
    "If we need more than one host, use a loop. We can then call the servers `$SERVER_NAME-1`, `$SERVER_NAME-2` and so on or give them more functional names like `$SERVER_NAME-webserver` and `$SERVER_NAME-database`. It all depends on what you want to do with them and how."
   ]
  },
  {
   "cell_type": "markdown",
   "metadata": {},
   "source": [
    "``` bash\n",
    "for i in \n",
    "do\n",
    "  openstack server create \\\n",
    "  --flavor baremetal \\\n",
    "  --image CC-CentOS7 \\\n",
    "  --nic net-id=\"$network_id\" \\\n",
    "  --hint reservation=\"$lease_id\" \\\n",
    "  --key-name=\"$SSHKEY_NAME\" \\\n",
    "  --wait \\\n",
    "  \"$SERVER_NAME-$i\"\n",
    "done\n",
    "```"
   ]
  },
  {
   "cell_type": "markdown",
   "metadata": {},
   "source": [
    "#### But wait! And then wait some more!\n",
    "\n",
    "Creating a server (or node) is not an instantanous process specially if it is a baremetal node. Chameleon has to boot the node, install the OS, move it to the right network, and then it is ready to receive the public IP. All of these steps can take **up to 10 minutes**, which is why we suggest to script building these nodes: you can let the script monitor the status of the node and then let you know when it is ready to be used. Or, same script can start using said node on its own. This is the reason why we passed the `--wait` flag when we created the server in the previous step: it will not allow the script to continue until the server is ready for the next step (adding the public IP).\n",
    "\n",
    "#### Steps:\n",
    "\n",
    "1. Only continue when the server status = `ACTIVE`. `BUILD != ACTIVE` \n",
    "1. Get a public floating IP. Either you already have a list of IPs you can use with your project or you will need to [request an IP][2]. For this example we will do the later. You need to know the name of the public network, which in this case is 'public'.\n",
    "1. Assign the IP to the server we created earlier.\n",
    "1. Ensure that there is a firewall rule or security policy allowing you to connect to server on port 22 (ssh). This is the default.\n",
    "1. Set up a remote connection to the node.\n",
    "\n",
    "[2]: https://docs.openstack.org/python-openstackclient/latest/cli/command-objects/floating-ip.html#floating-ip-create\n"
   ]
  },
  {
   "cell_type": "code",
   "execution_count": null,
   "metadata": {},
   "outputs": [],
   "source": [
    "# Wait until server is ready before continuing\n",
    "server_status=\"\"\n",
    "while [[ $server_status != \"ACTIVE\" ]]\n",
    "do\n",
    "   sleep 5\n",
    "   server_status=$(openstack server list --format value -c Status --name \"$SERVER_NAME\")\n",
    "done\n",
    "\n",
    "# Assign a public floating IP to $SERVER_NAME\n",
    "openstack server add floating ip \"$SERVER_NAME\" \"$server_ip\""
   ]
  },
  {
   "cell_type": "markdown",
   "metadata": {},
   "source": [
    "## Access the baremetal server(s)\n",
    "\n",
    "### Testing the connection\n",
    "Server has now a publicly facing IP. Let's see if it works (assuming you have netcat installed. If you are running this Jupyter book, you have netcat)."
   ]
  },
  {
   "cell_type": "code",
   "execution_count": null,
   "metadata": {},
   "outputs": [],
   "source": [
    "# Check if we can connect to server on port 22.\n",
    "ssh_status=\"\"\n",
    "while [[ $ssh_status != \"Up\" ]]\n",
    "do\n",
    "   sleep 120\n",
    "   ssh_status=$(nc -q 0 -w 1 \"${server_ip}\" 22 < /dev/null &> /dev/null && echo \"Up\" || echo \"Down\")\n",
    "done"
   ]
  },
  {
   "cell_type": "markdown",
   "metadata": {},
   "source": [
    "The above script returns \"Up\" if it can connect to port 22 (SSH) on our recently \n",
    "created server using the public IP, otherwise it returns \"Down\". Of course, the answer can be changed so it is is more script-friendly."
   ]
  },
  {
   "cell_type": "markdown",
   "metadata": {},
   "source": [
    "### Logging into the server we just created\n",
    "\n",
    "We ssh using the private key to verify it works. The default username for Chameleon-build images is `cc`. While logged in, might as well take a quick look; remember this server will be wiped once we are done."
   ]
  },
  {
   "cell_type": "code",
   "execution_count": null,
   "metadata": {},
   "outputs": [],
   "source": [
    "server_ip=192.5.87.142\n",
    "moo=\"ssh -o \\\"StrictHostKeyChecking no\\\" -i $SSHKEY_FILE cc@$server_ip\"\n",
    "eval \"$moo\" pwd "
   ]
  },
  {
   "cell_type": "markdown",
   "metadata": {},
   "source": [
    "## Experiment time\n",
    "### Installing Open vSwitch\n",
    "We will install it from scratch because we do not want to mess with any running network. \n",
    "\n",
    "First we need to get the prereq packages"
   ]
  },
  {
   "cell_type": "code",
   "execution_count": null,
   "metadata": {},
   "outputs": [],
   "source": [
    "eval \"$moo\" /bin/bash << EOF\n",
    "sudo yum install -y python3-pip bison byacc cscope \\\n",
    " ctags diffstat flex gcc gcc-c++ gettext git indent intltool libtool \\\n",
    " patch patchutils rcs \n",
    "sudo pip3 install six\n",
    "EOF"
   ]
  },
  {
   "cell_type": "markdown",
   "metadata": {},
   "source": [
    "Now get a copy of Open vSwitch"
   ]
  },
  {
   "cell_type": "code",
   "execution_count": null,
   "metadata": {},
   "outputs": [],
   "source": [
    "eval \"$moo\" git clone https://github.com/openvswitch/ovs.git"
   ]
  },
  {
   "cell_type": "markdown",
   "metadata": {},
   "source": [
    "Next, we build it. This will generate a lot of output, and is one of the reasons that building a lab using Jupyter works only to a certain point. Beyond that you may want to consider something like chef, puppet, or ansible."
   ]
  },
  {
   "cell_type": "code",
   "execution_count": null,
   "metadata": {},
   "outputs": [],
   "source": [
    "eval \"$moo\" /bin/bash << EOF\n",
    "cd ovs\n",
    "./boot.sh\n",
    "./configure\n",
    "make -j4\n",
    "EOF"
   ]
  },
  {
   "cell_type": "markdown",
   "metadata": {},
   "source": [
    "Finally we run the sandbox"
   ]
  },
  {
   "cell_type": "code",
   "execution_count": null,
   "metadata": {},
   "outputs": [],
   "source": [
    "make sandbox"
   ]
  },
  {
   "cell_type": "markdown",
   "metadata": {},
   "source": [
    "To exit the sandbox type exit or Control+D."
   ]
  },
  {
   "cell_type": "markdown",
   "metadata": {},
   "source": [
    "## Cleaning up after ourselves\n",
    "As the last task in this document, tear everything down. We can put it all back together by running this jupyter book again later."
   ]
  },
  {
   "cell_type": "code",
   "execution_count": null,
   "metadata": {},
   "outputs": [],
   "source": [
    "# Delete server. If you have more than one server in this project, \n",
    "# you need to loop over them all somehow.\n",
    "openstack server delete $SERVER_NAME && \\\n",
    "\n",
    "# Delete the public facing IP\n",
    "openstack floating ip delete $server_ip && \\\n",
    "\n",
    "# Delete lease\n",
    "blazar lease-delete $LEASE_NAME && \\\n",
    "\n",
    "# Delete key (files must be deleted manually)\n",
    "openstack keypair delete $SSHKEY_NAME\n",
    "rm $SSHKEY_FILE $SSHKEY_FILE.pub"
   ]
  }
 ],
 "metadata": {
  "kernelspec": {
   "display_name": "Bash",
   "language": "bash",
   "name": "bash"
  },
  "language_info": {
   "codemirror_mode": "shell",
   "file_extension": ".sh",
   "mimetype": "text/x-sh",
   "name": "bash"
  }
 },
 "nbformat": 4,
 "nbformat_minor": 4
}
